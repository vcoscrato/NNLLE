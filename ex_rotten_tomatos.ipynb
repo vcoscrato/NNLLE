{
 "cells": [
  {
   "cell_type": "code",
   "execution_count": 1,
   "metadata": {},
   "outputs": [],
   "source": [
    "import os\n",
    "import string\n",
    "import pickle\n",
    "from time import time\n",
    "\n",
    "import numpy as np\n",
    "from matplotlib import pyplot as plt\n",
    "\n",
    "from nltk import word_tokenize\n",
    "from nltk.corpus import stopwords\n",
    "from nltk.stem import WordNetLemmatizer\n",
    "\n",
    "from sklearn import metrics\n",
    "from sklearn.model_selection import train_test_split\n",
    "from sklearn.feature_extraction.text import CountVectorizer, TfidfTransformer\n",
    "\n",
    "from nnlocallinear import NLS\n",
    "from explainers.visualizations.plot_importance import ExplainGraph"
   ]
  },
  {
   "cell_type": "markdown",
   "metadata": {},
   "source": [
    "# Download data"
   ]
  },
  {
   "cell_type": "code",
   "execution_count": 2,
   "metadata": {},
   "outputs": [],
   "source": [
    "if not os.path.isfile('./data/rt-polaritydata.tar.gz'):\n",
    "    !wget 'http://www.cs.cornell.edu/People/pabo/movie-review-data/rt-polaritydata.tar.gz' -P 'data'\n",
    "    !tar -xf data/rt-polaritydata.tar.gz -C 'data'"
   ]
  },
  {
   "cell_type": "code",
   "execution_count": 3,
   "metadata": {},
   "outputs": [
    {
     "data": {
      "text/plain": [
       "('while the performances are often engaging , this loose collection of largely improvised numbers would probably have worked better as a one-hour tv documentary .',\n",
       " 0)"
      ]
     },
     "execution_count": 3,
     "metadata": {},
     "output_type": "execute_result"
    }
   ],
   "source": [
    "def load_polarity(path='./data/rt-polaritydata/'):\n",
    "    data = []\n",
    "    labels = []\n",
    "    f_names = ['rt-polarity.neg', 'rt-polarity.pos']\n",
    "    for (l, f) in enumerate(f_names):\n",
    "        for line in open(os.path.join(path, f), 'rb'):\n",
    "            data.append(line.decode('utf8', errors='ignore').strip())\n",
    "            labels.append(l)\n",
    "    return data, np.array(labels)\n",
    "\n",
    "x, y = load_polarity()\n",
    "\n",
    "x[11], y[11]"
   ]
  },
  {
   "cell_type": "code",
   "execution_count": 4,
   "metadata": {},
   "outputs": [],
   "source": [
    "remove_punct = str.maketrans('', '', string.punctuation)\n",
    "remove_digits = str.maketrans('', '', string.digits)\n",
    "stops = stopwords.words('english')\n",
    "wnl = WordNetLemmatizer()\n",
    "def process_text(sentence):\n",
    "    out = sentence.lower()\n",
    "    out = out.translate(remove_punct)\n",
    "    out = out.translate(remove_digits)\n",
    "    out = [wnl.lemmatize(w) for w in out.split() if w not in stops]\n",
    "    return ' '.join(out)"
   ]
  },
  {
   "cell_type": "code",
   "execution_count": 5,
   "metadata": {},
   "outputs": [],
   "source": [
    "split_idx = np.random.default_rng(0).binomial(size=len(y), n=1, p=0.8)\n",
    "\n",
    "x_train = [process_text(x[i]) for i in range(len(x)) if split_idx[i] == 1]\n",
    "x_test = [process_text(x[i]) for i in range(len(x)) if split_idx[i] == 0]\n",
    "\n",
    "y_train = y[split_idx == 1]\n",
    "y_test = y[split_idx == 0]"
   ]
  },
  {
   "cell_type": "code",
   "execution_count": 6,
   "metadata": {},
   "outputs": [
    {
     "data": {
      "text/plain": [
       "(array(['act', 'acted', 'acting', 'action', 'actor', 'actress', 'actually',\n",
       "        'add', 'adult', 'adventure'], dtype='<U14'),\n",
       " 557)"
      ]
     },
     "execution_count": 6,
     "metadata": {},
     "output_type": "execute_result"
    }
   ],
   "source": [
    "class VectorizeText():\n",
    "    def __init__(self, limit=True, **kwargs):\n",
    "      if limit:\n",
    "        self.count_vect = CountVectorizer(min_df=0.003, max_df=0.997, **kwargs)\n",
    "      else:\n",
    "        self.count_vect = CountVectorizer(**kwargs)\n",
    "      self.tf_transformer = TfidfTransformer(use_idf=False)\n",
    "    def fit(self, x):\n",
    "        x = self.count_vect.fit_transform(x)\n",
    "        self.tf_transformer.fit(x)\n",
    "    def transform(self, x):\n",
    "        x = self.count_vect.transform(x)\n",
    "        x = self.tf_transformer.transform(x)\n",
    "        return x.toarray()     \n",
    "    def get_feature_names(self):\n",
    "        return vectorizer.count_vect.get_feature_names()\n",
    "    \n",
    "vectorizer = VectorizeText(limit=True)\n",
    "vectorizer.fit(x_train)    \n",
    "x_vec_train = vectorizer.transform(x_train) \n",
    "x_vec_test = vectorizer.transform(x_test)\n",
    "\n",
    "names_features = np.array(vectorizer.get_feature_names())\n",
    "names_features[:10], len(names_features)"
   ]
  },
  {
   "cell_type": "code",
   "execution_count": 39,
   "metadata": {},
   "outputs": [],
   "source": [
    "def test_model(model):\n",
    "    y_pred = model.predict(x_vec_test)\n",
    "    print('F1 Score:', metrics.f1_score(y_test, y_pred, average='binary'))\n",
    "    print('Accuracy', metrics.accuracy_score(y_test, y_pred, normalize=True, sample_weight=None))\n",
    "\n",
    "    \n",
    "def get_explanation(x_explain, document, model, num_features=10):\n",
    "        \n",
    "    explanation = model.get_thetas(x_pred=x_explain, net_scale=True)\n",
    "    betas = explanation[2][0]\n",
    "    #print('len(betas)', len(betas))\n",
    "    words_from_text_indices = np.argwhere(x_explain[0] != 0).reshape(-1)\n",
    "    #print('len(words_from_text_indices)', len(words_from_text_indices))\n",
    "    # Prediction from the model\n",
    "    prediction = model.predict(x_explain).reshape(-1)\n",
    "    predict_proba = model.predict_proba(x_explain).reshape(-1)\n",
    "    ind_pred_proba = np.argsort(predict_proba)[::-1]\n",
    "    #print('probabilities: ', ind_pred_proba)\n",
    "\n",
    "    print(f'Probability negative: {predict_proba[0]}; Probability positive: {predict_proba[1]}')\n",
    "    # col_betas = int(prediction)\n",
    "    col_betas = ind_pred_proba[0]\n",
    "    col_betas_neg = ind_pred_proba[1]\n",
    "\n",
    "    betas_document = betas[words_from_text_indices, col_betas]\n",
    "    #print('betas_document len:', len(betas_document))\n",
    "    betas_document_neg = betas[words_from_text_indices, col_betas_neg]\n",
    "\n",
    "    betas_final = betas_document - betas_document_neg\n",
    "    words_features_document = names_features[words_from_text_indices].reshape(-1)\n",
    "\n",
    "    return dict(\n",
    "        chi_names=words_features_document,\n",
    "        chi_values=words_features_document,\n",
    "        x_values=words_features_document,\n",
    "        x_names=words_features_document,\n",
    "        y_p=predict_proba[0],\n",
    "        y_p_max=1.0,\n",
    "        y_p_min=0.0,\n",
    "        y_p_local_model=predict_proba[0],\n",
    "        y_p_local_model_max=None,\n",
    "        y_p_local_model_min=None,\n",
    "        error=None,\n",
    "        importances=betas_final,\n",
    "        importances_rank1=betas_document,\n",
    "        importances_rank2=betas_document_neg, \n",
    "        diff_convergence_importances=None,\n",
    "        ind_class_sorted=0,\n",
    "        class_names= [\"probability\"]\n",
    "    )\n",
    "\n",
    "\n",
    "def train(penalization_thetas, x_train, y_train):\n",
    "    parameters = {\n",
    "        'es_give_up_after_nepochs': 50\n",
    "        , 'hidden_size': 100\n",
    "        , 'num_layers': 5\n",
    "        , 'n_classification_labels': 2\n",
    "        , 'penalization_thetas': penalization_thetas\n",
    "    }\n",
    "    model = NLS(\n",
    "        verbose=10\n",
    "        , es=True\n",
    "        , batch_initial=16\n",
    "        , batch_max_size=128\n",
    "        , gpu=True\n",
    "        , scale_data=False\n",
    "        , varying_theta0=False\n",
    "        , fixed_theta0=True\n",
    "        , dataloader_workers=0\n",
    "        , **parameters\n",
    "    )\n",
    "    model.fit(x_train=x_train, y_train=y_train)\n",
    "    test_model(model)\n",
    "    return model\n",
    "\n",
    "def explanation(sentence, x, x_vec, model):\n",
    "    print(f'Original sentence: {sentence}')\n",
    "    print(f'Tokenized sentence: {x}')\n",
    "    \n",
    "    feature_names=[f'{e}: {word}' for e, word in enumerate(x.split())]\n",
    "    words=np.array([f'{word}' for e, word in enumerate(x.split())])\n",
    "    \n",
    "    explain_dict = get_explanation(x_vec, sentence, model, num_features=13)\n",
    "    \n",
    "    fig, ax = plt.subplots(figsize=(8, 9))\n",
    "    ax.set_title('Importance', fontsize=25)\n",
    "    names = explain_dict['chi_names']\n",
    "    importances = explain_dict['importances']\n",
    "    ax = ExplainGraph.plot_feature_importance(ax=ax, names=names, vals=importances, size_title=15)\n",
    "    plt.savefig(f'./img/rotten_tomatos/{penalization_thetas}.pdf', dpi=300)\n",
    "    plt.show()"
   ]
  },
  {
   "cell_type": "code",
   "execution_count": null,
   "metadata": {},
   "outputs": [
    {
     "name": "stdout",
     "output_type": "stream",
     "text": [
      "Finished epoch 0 with batch size 16 and train loss 16670231656.435146\n"
     ]
    }
   ],
   "source": [
    "start = time()\n",
    "penalization_thetas = 100000\n",
    "model = train(penalization_thetas, x_vec_train, y_train)\n",
    "delta_time = time() - start \n",
    "\"Time: \", delta_time"
   ]
  },
  {
   "cell_type": "markdown",
   "metadata": {},
   "source": [
    "## Explanations from data"
   ]
  },
  {
   "cell_type": "code",
   "execution_count": 37,
   "metadata": {},
   "outputs": [
    {
     "name": "stdout",
     "output_type": "stream",
     "text": [
      "Original sentence: a visually flashy but narratively opaque and emotionally vapid exercise in style and mystification .\n",
      "Tokenized sentence: visually flashy narratively opaque emotionally vapid exercise style mystification\n",
      "Probability negative: 0.5556545257568359; Probability positive: 0.44434547424316406\n"
     ]
    },
    {
     "data": {
      "image/png": "[encoded data removed]",
      "text/plain": [
       "<Figure size 576x648 with 1 Axes>"
      ]
     },
     "metadata": {},
     "output_type": "display_data"
    }
   ],
   "source": [
    "i = 0\n",
    "explanation(sentence = x[np.where(split_idx == 0)[0][i]], x = x_test[i], x_vec = np.array([x_vec_test[i]]), model = model)"
   ]
  },
  {
   "cell_type": "markdown",
   "metadata": {},
   "source": [
    "## Example explanations"
   ]
  },
  {
   "cell_type": "code",
   "execution_count": 38,
   "metadata": {},
   "outputs": [
    {
     "name": "stdout",
     "output_type": "stream",
     "text": [
      "Original sentence: very fun movie, great actors.\n",
      "Tokenized sentence: fun movie great actor\n",
      "Probability negative: 0.18561933934688568; Probability positive: 0.8143807053565979\n"
     ]
    },
    {
     "data": {
      "image/png": "[encoded data removed]",
      "text/plain": [
       "<Figure size 576x648 with 1 Axes>"
      ]
     },
     "metadata": {},
     "output_type": "display_data"
    }
   ],
   "source": [
    "sentence = 'very fun movie, great actors.'\n",
    "x_ = process_text(sentence)\n",
    "x__vec = vectorizer.transform([x_])\n",
    "explanation(sentence, x_, x__vec, model)"
   ]
  },
  {
   "cell_type": "code",
   "execution_count": null,
   "metadata": {},
   "outputs": [],
   "source": [
    "for penalization_thetas in [100, 1000, 10000, 100000]: # + list(range(10, 40, 5)) + list(range(50, 201, 50)):\n",
    "    print('\\n'*2)\n",
    "    print('#'*30)\n",
    "    print('penalization_thetas:', penalization_thetas)\n",
    "    train_test_explain(penalization_thetas, x_vec_train, y_train, x_vec_explain, x_explain)"
   ]
  }
 ],
 "metadata": {
  "kernelspec": {
   "display_name": "Python 3",
   "language": "python",
   "name": "python3"
  },
  "language_info": {
   "codemirror_mode": {
    "name": "ipython",
    "version": 3
   },
   "file_extension": ".py",
   "mimetype": "text/x-python",
   "name": "python",
   "nbconvert_exporter": "python",
   "pygments_lexer": "ipython3",
   "version": "3.8.10"
  }
 },
 "nbformat": 4,
 "nbformat_minor": 4
}
