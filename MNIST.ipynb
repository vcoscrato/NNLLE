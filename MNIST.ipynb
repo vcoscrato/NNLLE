{
 "cells": [
  {
   "cell_type": "code",
   "execution_count": 1,
   "metadata": {
    "tags": []
   },
   "outputs": [],
   "source": [
    "import os, sys\n",
    "sys.path.append('.')\n",
    "\n",
    "import numpy as np\n",
    "import matplotlib.pyplot as plt\n",
    "from pprint import pprint\n",
    "\n",
    "import torch\n",
    "import torch.utils.data\n",
    "from torchvision import datasets, transforms"
   ]
  },
  {
   "cell_type": "code",
   "execution_count": 2,
   "metadata": {
    "tags": []
   },
   "outputs": [],
   "source": [
    "from torchvision.datasets import MNIST\n",
    "\n",
    "training_data = datasets.MNIST(\n",
    "    root=\"data\",\n",
    "    train=True,\n",
    "    download=True,\n",
    "    transform=transforms.ToTensor()\n",
    ")\n",
    "\n",
    "test_data = datasets.MNIST(\n",
    "    root=\"data\",\n",
    "    train=False,\n",
    "    download=True,\n",
    "    transform=transforms.ToTensor()\n",
    ")"
   ]
  },
  {
   "cell_type": "code",
   "execution_count": 107,
   "metadata": {},
   "outputs": [],
   "source": [
    "x_train_orig = training_data.data\n",
    "x_train_flat = torch.flatten(x_train_orig, start_dim=1).float().numpy() + 1\n",
    "y_train = training_data.targets.numpy()\n",
    "\n",
    "x_test_orig = test_data.data\n",
    "x_test_flat = torch.flatten(x_test_orig, start_dim=1).float().numpy() + 1\n",
    "y_test = test_data.targets.numpy()"
   ]
  },
  {
   "cell_type": "code",
   "execution_count": 4,
   "metadata": {},
   "outputs": [
    {
     "data": {
      "text/plain": [
       "(array([[1., 1., 1., ..., 1., 1., 1.],\n",
       "        [1., 1., 1., ..., 1., 1., 1.],\n",
       "        [1., 1., 1., ..., 1., 1., 1.],\n",
       "        [1., 1., 1., ..., 1., 1., 1.],\n",
       "        [1., 1., 1., ..., 1., 1., 1.]], dtype=float32),\n",
       " array([5, 0, 4, 1, 9]),\n",
       " (60000, 784),\n",
       " (60000,))"
      ]
     },
     "execution_count": 4,
     "metadata": {},
     "output_type": "execute_result"
    }
   ],
   "source": [
    "x_train_flat[:5], y_train[:5], x_train_flat.shape, y_train.shape"
   ]
  },
  {
   "cell_type": "code",
   "execution_count": 5,
   "metadata": {},
   "outputs": [
    {
     "name": "stdout",
     "output_type": "stream",
     "text": [
      "Finished epoch 0 with batch size 300 and train loss 4.412544051806132\n",
      "Finished epoch 0 with batch size 2000 and validation loss 0.8112457275390625\n",
      "This is the lowest validation loss so far.\n",
      "Finished epoch 1 with batch size 301 and train loss 2.30490505367845\n",
      "Finished epoch 1 with batch size 2000 and validation loss 0.6751281082630157\n",
      "This is the lowest validation loss so far.\n",
      "Finished epoch 2 with batch size 305 and train loss 1.8430333198772537\n",
      "Finished epoch 2 with batch size 2000 and validation loss 0.5751220047473907\n",
      "This is the lowest validation loss so far.\n",
      "Finished epoch 3 with batch size 312 and train loss 1.5242363331331448\n",
      "Finished epoch 3 with batch size 2000 and validation loss 0.5101628869771957\n",
      "This is the lowest validation loss so far.\n",
      "Finished epoch 4 with batch size 322 and train loss 1.433713028974393\n",
      "Finished epoch 4 with batch size 2000 and validation loss 0.4661498963832855\n",
      "This is the lowest validation loss so far.\n",
      "Finished epoch 5 with batch size 335 and train loss 1.2777803580208522\n",
      "Finished epoch 5 with batch size 2000 and validation loss 0.4397388517856598\n",
      "This is the lowest validation loss so far.\n",
      "Finished epoch 6 with batch size 350 and train loss 1.1682226703425123\n",
      "Finished epoch 6 with batch size 2000 and validation loss 0.4260054111480713\n",
      "This is the lowest validation loss so far.\n",
      "Finished epoch 7 with batch size 368 and train loss 1.1074683455212804\n",
      "Finished epoch 7 with batch size 2000 and validation loss 0.39300657212734225\n",
      "This is the lowest validation loss so far.\n",
      "Finished epoch 8 with batch size 389 and train loss 1.0200338856125555\n",
      "Finished epoch 8 with batch size 2000 and validation loss 0.3752405822277069\n",
      "This is the lowest validation loss so far.\n",
      "Finished epoch 9 with batch size 413 and train loss 0.924788240651439\n",
      "Finished epoch 9 with batch size 2000 and validation loss 0.36417967081069946\n",
      "This is the lowest validation loss so far.\n",
      "Finished epoch 10 with batch size 440 and train loss 0.8837704000473022\n",
      "Finished epoch 10 with batch size 2000 and validation loss 0.3559454083442688\n",
      "This is the lowest validation loss so far.\n",
      "Finished epoch 11 with batch size 469 and train loss 0.7760710084540212\n",
      "Finished epoch 11 with batch size 2000 and validation loss 0.34894163012504575\n",
      "This is the lowest validation loss so far.\n",
      "Finished epoch 12 with batch size 501 and train loss 0.7608309243250331\n",
      "Finished epoch 12 with batch size 2000 and validation loss 0.3362892508506775\n",
      "This is the lowest validation loss so far.\n",
      "Finished epoch 13 with batch size 536 and train loss 0.7386896619025398\n",
      "Finished epoch 13 with batch size 2000 and validation loss 0.3334785461425781\n",
      "This is the lowest validation loss so far.\n",
      "Finished epoch 14 with batch size 574 and train loss 0.6461005570072876\n",
      "Finished epoch 14 with batch size 2000 and validation loss 0.3295789539813995\n",
      "This is the lowest validation loss so far.\n",
      "Finished epoch 15 with batch size 615 and train loss 0.669578867347053\n",
      "Finished epoch 15 with batch size 2000 and validation loss 0.3105517476797104\n",
      "This is the lowest validation loss so far.\n",
      "Finished epoch 16 with batch size 658 and train loss 0.6527878099895386\n",
      "Finished epoch 16 with batch size 2000 and validation loss 0.3001324564218521\n",
      "This is the lowest validation loss so far.\n",
      "Finished epoch 17 with batch size 704 and train loss 0.5806668068353946\n",
      "Finished epoch 17 with batch size 2000 and validation loss 0.28356015086174013\n",
      "This is the lowest validation loss so far.\n",
      "Finished epoch 18 with batch size 753 and train loss 0.5868478766451143\n",
      "Finished epoch 18 with batch size 2000 and validation loss 0.28753075897693636\n",
      "Finished epoch 19 with batch size 805 and train loss 0.5935335908742512\n",
      "Finished epoch 19 with batch size 2000 and validation loss 0.2917534440755844\n",
      "Finished epoch 20 with batch size 860 and train loss 0.5632088931780013\n",
      "Finished epoch 20 with batch size 2000 and validation loss 0.2834209144115448\n",
      "This is the lowest validation loss so far.\n",
      "Finished epoch 21 with batch size 917 and train loss 0.4953459334575524\n",
      "Finished epoch 21 with batch size 2000 and validation loss 0.2781041145324707\n",
      "This is the lowest validation loss so far.\n",
      "Finished epoch 22 with batch size 977 and train loss 0.49210716278425287\n",
      "Finished epoch 22 with batch size 2000 and validation loss 0.2777301013469696\n",
      "This is the lowest validation loss so far.\n",
      "Finished epoch 23 with batch size 1000 and train loss 0.5106078272516077\n",
      "Finished epoch 23 with batch size 2000 and validation loss 0.283724308013916\n",
      "Finished epoch 24 with batch size 1000 and train loss 0.4420459812337702\n",
      "Finished epoch 24 with batch size 2000 and validation loss 0.2746166199445724\n",
      "This is the lowest validation loss so far.\n",
      "Finished epoch 25 with batch size 1000 and train loss 0.4397833832285621\n",
      "Finished epoch 25 with batch size 2000 and validation loss 0.2698713392019272\n",
      "This is the lowest validation loss so far.\n",
      "Finished epoch 26 with batch size 1000 and train loss 0.45076141953468324\n",
      "Finished epoch 26 with batch size 2000 and validation loss 0.2734326899051666\n",
      "Finished epoch 27 with batch size 1000 and train loss 0.4242793413725766\n",
      "Finished epoch 27 with batch size 2000 and validation loss 0.2708382487297058\n",
      "Finished epoch 28 with batch size 1000 and train loss 0.4245158501646735\n",
      "Finished epoch 28 with batch size 2000 and validation loss 0.2639277517795563\n",
      "This is the lowest validation loss so far.\n",
      "Finished epoch 29 with batch size 1000 and train loss 0.4299003788016059\n",
      "Finished epoch 29 with batch size 2000 and validation loss 0.2534705102443695\n",
      "This is the lowest validation loss so far.\n",
      "Finished epoch 30 with batch size 1000 and train loss 0.3630193700844591\n",
      "Finished epoch 30 with batch size 2000 and validation loss 0.2590252995491028\n",
      "Finished epoch 31 with batch size 1000 and train loss 0.3693528660319068\n",
      "Finished epoch 31 with batch size 2000 and validation loss 0.25531033873558046\n",
      "Finished epoch 32 with batch size 1000 and train loss 0.367165301062844\n",
      "Finished epoch 32 with batch size 2000 and validation loss 0.24809415340423585\n",
      "This is the lowest validation loss so far.\n",
      "Finished epoch 33 with batch size 1000 and train loss 0.3509223835034804\n",
      "Finished epoch 33 with batch size 2000 and validation loss 0.24738302528858186\n",
      "This is the lowest validation loss so far.\n",
      "Finished epoch 34 with batch size 1000 and train loss 0.40557160783897744\n",
      "Finished epoch 34 with batch size 2000 and validation loss 0.24286068081855774\n",
      "This is the lowest validation loss so far.\n",
      "Finished epoch 35 with batch size 1000 and train loss 0.3680150725624778\n",
      "Finished epoch 35 with batch size 2000 and validation loss 0.24770416617393493\n",
      "Finished epoch 36 with batch size 1000 and train loss 0.3170912527225234\n",
      "Finished epoch 36 with batch size 2000 and validation loss 0.23774052858352662\n",
      "This is the lowest validation loss so far.\n",
      "Finished epoch 37 with batch size 1000 and train loss 0.2986406058073044\n",
      "Finished epoch 37 with batch size 2000 and validation loss 0.2350923240184784\n",
      "This is the lowest validation loss so far.\n",
      "Finished epoch 38 with batch size 1000 and train loss 0.32774219485846434\n",
      "Finished epoch 38 with batch size 2000 and validation loss 0.24274776577949525\n",
      "Finished epoch 39 with batch size 1000 and train loss 0.3227395259521224\n",
      "Finished epoch 39 with batch size 2000 and validation loss 0.24333362579345702\n",
      "Finished epoch 40 with batch size 1000 and train loss 0.29887082739309834\n",
      "Finished epoch 40 with batch size 2000 and validation loss 0.23379262685775756\n",
      "This is the lowest validation loss so far.\n",
      "Finished epoch 41 with batch size 1000 and train loss 0.28435816087506033\n",
      "Finished epoch 41 with batch size 2000 and validation loss 0.2284935474395752\n",
      "This is the lowest validation loss so far.\n",
      "Finished epoch 42 with batch size 1000 and train loss 0.2696624503894286\n",
      "Finished epoch 42 with batch size 2000 and validation loss 0.23536084294319154\n",
      "Finished epoch 43 with batch size 1000 and train loss 0.28019894483414565\n",
      "Finished epoch 43 with batch size 2000 and validation loss 0.2290169358253479\n",
      "Finished epoch 44 with batch size 1000 and train loss 0.2882412933490493\n",
      "Finished epoch 44 with batch size 2000 and validation loss 0.23898260593414306\n",
      "Finished epoch 45 with batch size 1000 and train loss 0.2898298655043949\n",
      "Finished epoch 45 with batch size 2000 and validation loss 0.23803931772708892\n",
      "Finished epoch 46 with batch size 1000 and train loss 0.23693088685924357\n",
      "Finished epoch 46 with batch size 2000 and validation loss 0.23193682134151458\n",
      "Finished epoch 47 with batch size 1000 and train loss 0.2642545919526707\n",
      "Finished epoch 47 with batch size 2000 and validation loss 0.2369867742061615\n",
      "No improvement for 6 tries\n",
      "Decreasing learning rate by half\n",
      "Restarting from best route.\n",
      "Finished epoch 48 with batch size 1000 and train loss 0.27923688969828864\n",
      "Finished epoch 48 with batch size 2000 and validation loss 0.22462276816368104\n",
      "This is the lowest validation loss so far.\n",
      "Finished epoch 49 with batch size 1000 and train loss 0.2868518764322454\n",
      "Finished epoch 49 with batch size 2000 and validation loss 0.22861807495355607\n",
      "Finished epoch 50 with batch size 1000 and train loss 0.3049498445608399\n",
      "Finished epoch 50 with batch size 2000 and validation loss 0.23477077782154082\n",
      "Finished epoch 51 with batch size 1000 and train loss 0.2988792581991716\n",
      "Finished epoch 51 with batch size 2000 and validation loss 0.22910696268081665\n",
      "Finished epoch 52 with batch size 1000 and train loss 0.2817898521369154\n",
      "Finished epoch 52 with batch size 2000 and validation loss 0.23454108834266663\n",
      "Finished epoch 53 with batch size 1000 and train loss 0.2621847024018114\n",
      "Finished epoch 53 with batch size 2000 and validation loss 0.22852005660533906\n",
      "Finished epoch 54 with batch size 1000 and train loss 0.25335696664723484\n",
      "Finished epoch 54 with batch size 2000 and validation loss 0.22854991257190704\n",
      "No improvement for 6 tries\n",
      "Decreasing learning rate by half\n",
      "Restarting from best route.\n",
      "Finished epoch 55 with batch size 1000 and train loss 0.26800993301651693\n",
      "Finished epoch 55 with batch size 2000 and validation loss 0.2249213933944702\n",
      "Finished epoch 56 with batch size 1000 and train loss 0.2539295173504136\n",
      "Finished epoch 56 with batch size 2000 and validation loss 0.22722819149494172\n",
      "Finished epoch 57 with batch size 1000 and train loss 0.277590784565969\n",
      "Finished epoch 57 with batch size 2000 and validation loss 0.2274715334177017\n",
      "Finished epoch 58 with batch size 1000 and train loss 0.2502703058448705\n",
      "Finished epoch 58 with batch size 2000 and validation loss 0.22522396892309188\n",
      "Finished epoch 59 with batch size 1000 and train loss 0.2678880373185331\n",
      "Finished epoch 59 with batch size 2000 and validation loss 0.2249446302652359\n",
      "Finished epoch 60 with batch size 1000 and train loss 0.23128249821337787\n",
      "Finished epoch 60 with batch size 2000 and validation loss 0.22516416013240814\n",
      "No improvement for 12 tries\n",
      "Decreasing learning rate by half\n",
      "Restarting from best route.\n",
      "Finished epoch 61 with batch size 1000 and train loss 0.27775291312824596\n",
      "Finished epoch 61 with batch size 2000 and validation loss 0.22518815696239472\n",
      "Finished epoch 62 with batch size 1000 and train loss 0.28241456665775994\n",
      "Finished epoch 62 with batch size 2000 and validation loss 0.2258834272623062\n",
      "Finished epoch 63 with batch size 1000 and train loss 0.2511157520792701\n",
      "Finished epoch 63 with batch size 2000 and validation loss 0.224967423081398\n",
      "Finished epoch 64 with batch size 1000 and train loss 0.2501801393248818\n",
      "Finished epoch 64 with batch size 2000 and validation loss 0.22544687688350679\n",
      "Finished epoch 65 with batch size 1000 and train loss 0.24357085376977922\n",
      "Finished epoch 65 with batch size 2000 and validation loss 0.22598169445991517\n",
      "Finished epoch 66 with batch size 1000 and train loss 0.25236626822840086\n",
      "Finished epoch 66 with batch size 2000 and validation loss 0.22719219326972961\n",
      "Finished epoch 67 with batch size 1000 and train loss 0.2681362800977447\n",
      "Finished epoch 67 with batch size 2000 and validation loss 0.22838212549686432\n",
      "Finished epoch 68 with batch size 1000 and train loss 0.2325056556950916\n",
      "Finished epoch 68 with batch size 2000 and validation loss 0.2267378330230713\n",
      "Validation loss did not improve after 20 tries. Stopping\n",
      "Elapsed time: 559.7254018783569\n"
     ]
    },
    {
     "data": {
      "text/plain": [
       "NLS(dataloader_workers=0, es_give_up_after_nepochs=20, fixed_theta0=False,\n",
       "    gpu=False, n_classification_labels=10, penalization_thetas=0.0, verbose=3)"
      ]
     },
     "execution_count": 5,
     "metadata": {},
     "output_type": "execute_result"
    }
   ],
   "source": [
    "from nnlocallinear import NLS, LLS, NNPredict\n",
    "\n",
    "parameter = {\n",
    "        'es_give_up_after_nepochs': 20\n",
    "        , 'hidden_size': 100\n",
    "        , 'num_layers': 3\n",
    "        , 'n_classification_labels': len(training_data.classes)\n",
    "        , 'penalization_thetas': 0.0\n",
    "    }\n",
    "\n",
    "model = NLS(\n",
    "    verbose=3\n",
    "    , es=True\n",
    "    , gpu=False\n",
    "    , scale_data=True\n",
    "    , varying_theta0=True\n",
    "    , fixed_theta0=False\n",
    "    , dataloader_workers=0\n",
    "    , **parameter\n",
    ") \n",
    "    \n",
    "model.fit(x_train_flat, y_train)"
   ]
  },
  {
   "cell_type": "code",
   "execution_count": 9,
   "metadata": {},
   "outputs": [],
   "source": [
    "pred_labels = model.predict(x_test_flat)\n",
    "pred_proba = model.predict_proba(x_test_flat)\n",
    "thetas = model.get_thetas(x_test_flat, net_scale=True)[2]"
   ]
  },
  {
   "cell_type": "code",
   "execution_count": 423,
   "metadata": {},
   "outputs": [
    {
     "name": "stdout",
     "output_type": "stream",
     "text": [
      "0.973\n"
     ]
    },
    {
     "data": {
      "text/plain": [
       "array([[ 970,    0,    1,    0,    0,    1,    4,    1,    2,    1],\n",
       "       [   0, 1127,    3,    1,    0,    1,    2,    0,    1,    0],\n",
       "       [   4,    0, 1005,    2,    1,    1,    3,    8,    8,    0],\n",
       "       [   0,    0,    6,  970,    0,   13,    0,    6,    6,    9],\n",
       "       [   3,    0,    6,    1,  949,    0,    3,    2,    3,   15],\n",
       "       [   3,    0,    0,   10,    1,  865,    4,    1,    7,    1],\n",
       "       [   6,    2,    2,    1,    5,    4,  935,    0,    3,    0],\n",
       "       [   0,    5,    9,    1,    0,    1,    0,  995,    4,   13],\n",
       "       [   2,    1,    5,    5,    2,    8,    0,    4,  944,    3],\n",
       "       [   1,    6,    2,    9,    9,    4,    0,    5,    3,  970]])"
      ]
     },
     "execution_count": 423,
     "metadata": {},
     "output_type": "execute_result"
    }
   ],
   "source": [
    "from sklearn import metrics\n",
    "print(metrics.accuracy_score(test_data.targets, pred_labels))\n",
    "metrics.confusion_matrix(test_data.targets, pred_labels)"
   ]
  },
  {
   "cell_type": "code",
   "execution_count": 415,
   "metadata": {},
   "outputs": [],
   "source": [
    "import itertools\n",
    "import numpy as np\n",
    "import matplotlib\n",
    "from matplotlib import pyplot as plt\n",
    "from matplotlib import cm\n",
    "from scipy.sparse import issparse\n",
    "from mpl_toolkits.axes_grid1 import make_axes_locatable\n",
    "import matplotlib.colors as mcolors\n",
    "from skimage import feature, transform\n",
    "\n",
    "\n",
    "class ImagePlot(object):\n",
    "    \n",
    "    @classmethod\n",
    "    def compare(cls, img, importance, contra, real_label, counter_label, probs):\n",
    "        f, ax = plt.subplots(ncols=3, figsize=(12, 5))\n",
    "        \n",
    "        plot = cls.plot_instances(img, ax=ax[0])\n",
    "        plot = cls.plot_importance(importance, real_label, probs[real_label], ax=ax[1])\n",
    "        plot = cls.plot_importance(contra, counter_label, probs[counter_label], ax=ax[2])\n",
    "        f.tight_layout()\n",
    "        \n",
    "        ax[0].set_title(f\"Real digit: {real_label}\", fontsize=20)\n",
    "        \n",
    "        return f, ax\n",
    "\n",
    "    @staticmethod\n",
    "    def color_map():\n",
    "        colors = cm.get_cmap(\"bwr\", 201)\n",
    "        scale_color = [*range(0, 50, 1)] + [*range(50, 80, 8)]\n",
    "        scale_color1 = [*range(120, 150, 8)] + [*range(150, 200, 1)]\n",
    "        newcolors = colors(scale_color + [*range(98, 104)] + scale_color1)\n",
    "        newcmp = matplotlib.colors.ListedColormap(newcolors)\n",
    "        # newcmp = colors\n",
    "        return newcmp\n",
    "\n",
    "    @classmethod\n",
    "    def plot_importance(cls, importance, label, prob, shape=None, standardization=False, ax=None, x_explain=None, simple=False):\n",
    "        if standardization:\n",
    "            importance = importance / np.std(importance)\n",
    "        if shape is None:\n",
    "            n_importance = importance.shape\n",
    "            n_size = int(np.sqrt(n_importance))\n",
    "            shape = (n_size, n_size)\n",
    "\n",
    "        max_importance = np.max(importance)\n",
    "        min_importance = np.min(importance)\n",
    "        max_scale = np.max(np.abs([max_importance, max_importance]))\n",
    "\n",
    "        importance = importance.reshape(shape)\n",
    "        if ax is None:\n",
    "            fig, ax = plt.subplots(figsize=(5, 5))\n",
    "            fig.subplots_adjust(left=0.02, bottom=0.06, right=0.95, top=0.94, wspace=0.1)\n",
    "\n",
    "        cmap_ = cls.color_map()\n",
    "\n",
    "        dx, dy = 0.05, 0.05\n",
    "        xx = np.arange(0.0, importance.shape[1] + dx, dx)\n",
    "        yy = np.arange(0.0, importance.shape[0] + dy, dy)\n",
    "        xmin, xmax, ymin, ymax = np.amin(xx), np.amax(xx), np.amin(yy), np.amax(yy)\n",
    "        extent = xmin, xmax, ymin, ymax\n",
    "\n",
    "        cp_importance, cbar = cls.plot_importance_(\n",
    "            importance=importance,\n",
    "            title=\" \",\n",
    "            ax=ax,\n",
    "            extent=extent,\n",
    "            cmap=cmap_,\n",
    "            vmax=max_scale,\n",
    "            vmin=-max_scale\n",
    "        )\n",
    "        if simple:\n",
    "            cbar.ax.set_xlabel(fr\"$\\delta_i$({label})\", fontsize=20, labelpad=5)\n",
    "        else:\n",
    "            cbar.ax.set_xlabel(fr\"$\\delta_i$({label}); P(y = {label}) = {prob:.2f}\", fontsize=25, labelpad=5)\n",
    "        if x_explain is not None:\n",
    "           cls.plot_mask(data=x_explain, ax=ax, extent=extent)\n",
    "\n",
    "        return ax, cp_importance\n",
    "\n",
    "    @staticmethod\n",
    "    def plot_mask(data, ax, extent=None, dilation=3.0, alpha=0.5):\n",
    "        data = data[0]\n",
    "        mean = data if len(data.shape) == 2 else np.mean(data, axis=-1)\n",
    "        in_image_upscaled = transform.rescale(mean, dilation, mode=\"constant\")\n",
    "        mask = feature.canny(in_image_upscaled).astype(float)\n",
    "        mask[mask < 0.5] = np.nan\n",
    "        # plot\n",
    "        cmap = plt.get_cmap(\"Greys_r\")\n",
    "        ax.imshow(mask, extent=extent, interpolation=\"none\", cmap=cmap, alpha=alpha)\n",
    "        return ax\n",
    "\n",
    "    @staticmethod\n",
    "    def plot_importance_(importance, title, ax, extent=None, **kwarg):\n",
    "        ax.set_title(title, fontsize=20)\n",
    "        ax.set_xticks([])\n",
    "        ax.set_yticks([])\n",
    "        cp = ax.imshow(importance, extent=extent, interpolation=\"none\", **kwarg)\n",
    "        divider = make_axes_locatable(ax)\n",
    "        cax = divider.append_axes(\"top\", size=\"5%\", pad=0.05)\n",
    "        cbar = plt.colorbar(cp, cax=cax, orientation=\"horizontal\", fraction=0.07, anchor=(1.0, 0.0))\n",
    "        cbar.ax.tick_params(labelsize=13, pad=-1, direction=\"in\")\n",
    "        cax.xaxis.set_ticks_position(\"top\")\n",
    "        cax.xaxis.set_label_position(\"top\")\n",
    "        return cp, cbar\n",
    "\n",
    "    @classmethod\n",
    "    def plot_instances(cls, x_=None, y_=None, ax=None):\n",
    "        if ax is None:\n",
    "            fig, ax = plt.subplots(figsize=(5, 5))\n",
    "        ax.set_xticks([])\n",
    "        ax.set_yticks([])\n",
    "        ax.set_title(y_, fontsize=18)\n",
    "        colors = matplotlib.cm.get_cmap(\"Greys\", 200)\n",
    "        scale_color = [*range(0, 100, 8)] + [*range(100, 200, 1)]\n",
    "        newcolors = colors(scale_color)\n",
    "        newcmp = matplotlib.colors.ListedColormap(newcolors)\n",
    "        return ax.imshow(x_, interpolation=\"none\", cmap=newcmp)"
   ]
  },
  {
   "cell_type": "code",
   "execution_count": 416,
   "metadata": {},
   "outputs": [
    {
     "data": {
      "image/png": "[encoded data removed]",
      "text/plain": [
       "<Figure size 864x360 with 12 Axes>"
      ]
     },
     "metadata": {
      "needs_background": "light"
     },
     "output_type": "display_data"
    }
   ],
   "source": [
    "index = np.random.randint(low=0, high=len(y_test), size=4)\n",
    "labels = y_test[index]\n",
    "imgs = x_test_flat[index]\n",
    "thetas_instances = thetas[index, :, labels] * imgs\n",
    "\n",
    "f, ax = plt.subplots(nrows=2, ncols=4, figsize=(12, 5))\n",
    "for i in range(len(index)):\n",
    "    ImagePlot.plot_instances(x_test_orig[index[i]], ax=ax[0, i])\n",
    "    ImagePlot.plot_importance(thetas_instances[i], ax=ax[1, i], label=labels[i], prob=1, simple=True)\n",
    "f.tight_layout()\n",
    "f.savefig('img/digits/example_random.pdf')"
   ]
  },
  {
   "cell_type": "code",
   "execution_count": 417,
   "metadata": {},
   "outputs": [
    {
     "data": {
      "image/png": "[encoded data removed]",
      "text/plain": [
       "<Figure size 864x360 with 5 Axes>"
      ]
     },
     "metadata": {
      "needs_background": "light"
     },
     "output_type": "display_data"
    }
   ],
   "source": [
    "index = 883\n",
    "label = y_test[index]\n",
    "label_counter = 5\n",
    "\n",
    "img = x_test_orig[index]\n",
    "img_flat = x_test_flat[index]\n",
    "thetas_instance = thetas[index][:, label].flatten() * img_flat\n",
    "thetas_counter = thetas[index][:, label_counter].flatten() * img_flat\n",
    "\n",
    "f, ax = ImagePlot.compare(img, thetas_instance, thetas_counter, real_label=y_test[index], counter_label=label_counter, probs=pred_proba[index])\n",
    "f.savefig(\"img/digits/example1.pdf\")"
   ]
  },
  {
   "cell_type": "code",
   "execution_count": 418,
   "metadata": {},
   "outputs": [
    {
     "data": {
      "image/png": "[encoded data removed]",
      "text/plain": [
       "<Figure size 864x360 with 5 Axes>"
      ]
     },
     "metadata": {
      "needs_background": "light"
     },
     "output_type": "display_data"
    }
   ],
   "source": [
    "index = 1247\n",
    "label = y_test[index]\n",
    "label_counter = 3\n",
    "\n",
    "img = x_test_orig[index]\n",
    "img_flat = x_test_flat[index]\n",
    "thetas_instance = thetas[index][:, label].flatten() * img_flat\n",
    "thetas_counter = thetas[index][:, label_counter].flatten() * img_flat\n",
    "\n",
    "f, ax = ImagePlot.compare(img, thetas_instance, thetas_counter, real_label=y_test[index], counter_label=label_counter, probs=pred_proba[index])\n",
    "f.savefig(\"img/digits/example2.pdf\")"
   ]
  },
  {
   "cell_type": "code",
   "execution_count": 419,
   "metadata": {},
   "outputs": [
    {
     "data": {
      "image/png": "[encoded data removed]",
      "text/plain": [
       "<Figure size 864x360 with 5 Axes>"
      ]
     },
     "metadata": {
      "needs_background": "light"
     },
     "output_type": "display_data"
    }
   ],
   "source": [
    "index = 1878\n",
    "label = y_test[index]\n",
    "label_counter = 3\n",
    "\n",
    "img = x_test_orig[index]\n",
    "img_flat = x_test_flat[index]\n",
    "thetas_instance = thetas[index][:, label].flatten() * img_flat\n",
    "thetas_counter = thetas[index][:, label_counter].flatten() * img_flat\n",
    "\n",
    "f, ax = ImagePlot.compare(img, thetas_instance, thetas_counter, real_label=y_test[index], counter_label=label_counter, probs=pred_proba[index])\n",
    "f.savefig(\"img/digits/example3.pdf\")"
   ]
  },
  {
   "cell_type": "code",
   "execution_count": 420,
   "metadata": {},
   "outputs": [
    {
     "data": {
      "image/png": "[encoded data removed]",
      "text/plain": [
       "<Figure size 864x360 with 5 Axes>"
      ]
     },
     "metadata": {
      "needs_background": "light"
     },
     "output_type": "display_data"
    }
   ],
   "source": [
    "index = 2720\n",
    "label = y_test[index]\n",
    "label_counter = 4\n",
    "\n",
    "img = x_test_orig[index]\n",
    "img_flat = x_test_flat[index]\n",
    "thetas_instance = thetas[index][:, label].flatten() * img_flat\n",
    "thetas_counter = thetas[index][:, label_counter].flatten() * img_flat\n",
    "\n",
    "f, ax = ImagePlot.compare(img, thetas_instance, thetas_counter, real_label=y_test[index], counter_label=label_counter, probs=pred_proba[index])\n",
    "f.savefig(\"img/digits/example4.pdf\")"
   ]
  },
  {
   "cell_type": "code",
   "execution_count": 421,
   "metadata": {},
   "outputs": [
    {
     "data": {
      "image/png": "[encoded data removed]",
      "text/plain": [
       "<Figure size 864x360 with 5 Axes>"
      ]
     },
     "metadata": {
      "needs_background": "light"
     },
     "output_type": "display_data"
    }
   ],
   "source": [
    "index = 2721\n",
    "label = y_test[index]\n",
    "label_counter = 5\n",
    "\n",
    "img = x_test_orig[index]\n",
    "img_flat = x_test_flat[index]\n",
    "thetas_instance = thetas[index][:, label].flatten() * img_flat\n",
    "thetas_counter = thetas[index][:, label_counter].flatten() * img_flat\n",
    "\n",
    "f, ax = ImagePlot.compare(img, thetas_instance, thetas_counter, real_label=y_test[index], counter_label=label_counter, probs=pred_proba[index])\n",
    "f.savefig(\"img/digits/example5.pdf\")"
   ]
  }
 ],
 "metadata": {
  "kernelspec": {
   "display_name": "Python 3",
   "language": "python",
   "name": "python3"
  },
  "language_info": {
   "codemirror_mode": {
    "name": "ipython",
    "version": 3
   },
   "file_extension": ".py",
   "mimetype": "text/x-python",
   "name": "python",
   "nbconvert_exporter": "python",
   "pygments_lexer": "ipython3",
   "version": "3.8.10"
  }
 },
 "nbformat": 4,
 "nbformat_minor": 4
}
